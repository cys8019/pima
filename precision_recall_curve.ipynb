{
 "cells": [
  {
   "cell_type": "code",
   "execution_count": 1,
   "metadata": {},
   "outputs": [
    {
     "ename": "SyntaxError",
     "evalue": "invalid syntax (4073232501.py, line 9)",
     "output_type": "error",
     "traceback": [
      "\u001b[1;36m  Cell \u001b[1;32mIn[1], line 9\u001b[1;36m\u001b[0m\n\u001b[1;33m    threshold_boundary threshold.shape[0]\u001b[0m\n\u001b[1;37m                       ^\u001b[0m\n\u001b[1;31mSyntaxError\u001b[0m\u001b[1;31m:\u001b[0m invalid syntax\n"
     ]
    }
   ],
   "source": [
    "\n",
    "import matplotlib.pyplot as plt \n",
    "import matplotlib.ticker as ticker\n",
    "def precision_recall_curve_plot(y_test,pred_proba_c1):\n",
    "# threshold narray와 이 threshold에 따른 정밀도, 재현율 ndarray 추출\n",
    "    precisions, recalls, threshold = precision_recall_curve (y_test, pred_proba_c1)\n",
    "# x축을 threshold 값으로 y축은 정밀도, 재현율 값으로 각각 plot 수행,\n",
    "#정밀도는 점선으로 표시\n",
    "plt.figure(figsize=(5, 4))\n",
    "threshold_boundary threshold.shape[0]\n",
    "plt.plot(threshold, precisions [0: threshold_boundary], linestyle='--', label=\"precision\") plt.plot(threshold, recalls [0:threshold_boundary], label=\"recall\")\n",
    "# threshold 값 x축의 Scale을 0.1단위로 변경\n",
    "start, end = plt.xlim()\n",
    "plt.xticks(np.round(np.arange(start, end, 0.1), 2))\n",
    "# x축 y축 라벨과 legend, grid 설정\n",
    "plt.xlabel(\"Threshold value\"); plt.ylabel(\"Precision and Recall value\")\n",
    "plt.legend(); plt.grid()\n",
    "plt.show()"
   ]
  },
  {
   "cell_type": "code",
   "execution_count": null,
   "metadata": {},
   "outputs": [],
   "source": [
    "\n",
    "from sklearn.metrics import f1_score \n",
    "f1 =  f1_score(y_test, pred) \n",
    "print(\"F1 : {f1:.4f}\")"
   ]
  },
  {
   "cell_type": "code",
   "execution_count": null,
   "metadata": {},
   "outputs": [],
   "source": [
    "\n",
    "def get_clf_eval(y_test, pred):\n",
    "    confusion = confusion_matrix(y_test, pred) \n",
    "    accuracy = accuracy_score(y_test, pred) \n",
    "    precision = precision_score(y_test, pred) \n",
    "    recall = recall_score(y_test, pred) #F1 스코어 추가\n",
    "    f1 = f1_score (y_test, pred)\n",
    "    print(\"오차 행렬\")\n",
    "    print(confusion)\n",
    "    # F1 스코어 print 추가\n",
    "    print(f\": {accuracy:.4f}, {precision: .4f}, {recall:.4f}, F1 : {f1:.4f}\")"
   ]
  },
  {
   "cell_type": "code",
   "execution_count": null,
   "metadata": {},
   "outputs": [],
   "source": [
    "\n",
    "thresholds = [0.4, 0.45, 0.50, 0.55, 0.60]\n",
    "pred_proba = lr_clf.predict_proba (X_test)\n",
    "get_eval_by_threshold(y_test, pred_proba[:,1].reshape(-1,1), threshold)"
   ]
  },
  {
   "cell_type": "code",
   "execution_count": null,
   "metadata": {},
   "outputs": [
    {
     "ename": "",
     "evalue": "",
     "output_type": "error",
     "traceback": [
      "\u001b[1;31m'Python 3.12.3'(으)로 셀을 실행하려면 ipykernel 패키지가 필요합니다.\n",
      "\u001b[1;31m다음 명령어를 실행하여 Python 환경에 'ipykernel'을(를) 설치합니다. \n",
      "\u001b[1;31m 명령: 'c:/Users/user/AppData/Local/Programs/Python/Python312/python.exe -m pip install ipykernel -U --user --force-reinstall'"
     ]
    }
   ],
   "source": [
    "\n",
    "from sklearn.metrics import roc_curve\n",
    "#레이블 값이 1일때의 예측 확률을 추출\n",
    "pred_proba_class1 = lr_clf.predict_proba (X_test)[:,1]\n",
    "fprs, tprs, thresholds = roc_curve (y_test, pred_proba_class1) #반환된 임계값 배열에서 샘플로 데이터를 추출하되, 임계값을 5 Step으로 추출 # threshold[0] inf(EO Negative FPR=0, TPR=0, (0,0)) # inf는 제외하기 위해 np.arange는 1부터 시작 \n",
    "thr_index = np.arange(1, thresholds.shape[0], 5) \n",
    "print(\"index\", thr_index)\n",
    "print(\"index\", np.round(thresholds [thr_index],2)) # 5 step 단위로 추출된 임계값에 따른 FPR, TPR 값\n",
    "print(\"샘플 임계값별 FPR : \", np.round(fprs[thr_index], 3)) \n",
    "print(\"샘플 임계값별 TPR : \", np.round(tprs [thr_index], 3))"
   ]
  },
  {
   "cell_type": "code",
   "execution_count": null,
   "metadata": {},
   "outputs": [],
   "source": [
    "\n",
    "def roc_curve_plot(y_test, pred_proba_c1):\n",
    "    #임계값에 따른 FPR, TPR 값 반환\n",
    "    fprs, tprs, thresholds = roc_curve (y_test, pred_proba_c1) #ROC 곡선을 그래프 곡선으로 그림\n",
    "    plt.plot(fprs, tprs, label=\"ROC\")\n",
    "    #가운데 대각선 직선을 그림 x축의 시작과 끝 y축의 시작과 끝 \n",
    "    plt.plot([0, 1], [0, 1], \"k--\", label=\"Rondom\")\n",
    "    #FPR X 축의 Scale을 0.1 단위로 변경, X,Y축 명 설정 등 start, end = plt.xlim()\n",
    "    plt.xticks(np.round(np.arange(start, end, 0.1), 2)) \n",
    "    plt.xlim(0,1); plt.ylim(0,1)\n",
    "    plt.xlabel(\"FPR (1-Specificity)\"); plt.ylabel(\"TPR (Recall)\")\n",
    "    plt.legend()"
   ]
  },
  {
   "cell_type": "code",
   "execution_count": null,
   "metadata": {},
   "outputs": [],
   "source": []
  },
  {
   "cell_type": "code",
   "execution_count": null,
   "metadata": {},
   "outputs": [],
   "source": []
  },
  {
   "cell_type": "code",
   "execution_count": null,
   "metadata": {},
   "outputs": [],
   "source": []
  },
  {
   "cell_type": "code",
   "execution_count": null,
   "metadata": {},
   "outputs": [],
   "source": []
  },
  {
   "cell_type": "code",
   "execution_count": null,
   "metadata": {},
   "outputs": [],
   "source": []
  },
  {
   "cell_type": "code",
   "execution_count": null,
   "metadata": {},
   "outputs": [],
   "source": []
  },
  {
   "cell_type": "code",
   "execution_count": null,
   "metadata": {},
   "outputs": [],
   "source": []
  },
  {
   "cell_type": "code",
   "execution_count": null,
   "metadata": {},
   "outputs": [],
   "source": []
  },
  {
   "cell_type": "code",
   "execution_count": null,
   "metadata": {},
   "outputs": [],
   "source": []
  },
  {
   "cell_type": "code",
   "execution_count": null,
   "metadata": {},
   "outputs": [],
   "source": []
  },
  {
   "cell_type": "code",
   "execution_count": null,
   "metadata": {},
   "outputs": [],
   "source": []
  },
  {
   "cell_type": "code",
   "execution_count": null,
   "metadata": {},
   "outputs": [],
   "source": []
  }
 ],
 "metadata": {
  "kernelspec": {
   "display_name": "AIML_Lecture",
   "language": "python",
   "name": "python3"
  },
  "language_info": {
   "codemirror_mode": {
    "name": "ipython",
    "version": 3
   },
   "file_extension": ".py",
   "mimetype": "text/x-python",
   "name": "python",
   "nbconvert_exporter": "python",
   "pygments_lexer": "ipython3",
   "version": "3.12.4"
  }
 },
 "nbformat": 4,
 "nbformat_minor": 2
}
